{
 "cells": [
  {
   "cell_type": "markdown",
   "id": "77a437f7-364b-4fc1-94a2-6ca153702e6b",
   "metadata": {},
   "source": [
    "# Ejercicio 02: Crear una red compleja"
   ]
  },
  {
   "cell_type": "markdown",
   "id": "163dff4e-dc93-4c1a-8e6a-9324ae807bc5",
   "metadata": {},
   "source": [
    "Crear un grafo reinterpretando el anterio, en este caso los nodos serán las películas y las aristas los actores"
   ]
  },
  {
   "cell_type": "markdown",
   "id": "b40450db-f0dd-4f3c-9945-a3a5b82dd85f",
   "metadata": {},
   "source": [
    "### Importamos los paquetes"
   ]
  },
  {
   "cell_type": "code",
   "execution_count": 1,
   "id": "22a4c6f5-937b-430b-9494-404ebb13fc28",
   "metadata": {},
   "outputs": [],
   "source": [
    "import graphviz\n",
    "import networkx as nx\n",
    "import matplotlib.pyplot as plt"
   ]
  },
  {
   "cell_type": "markdown",
   "id": "7771675d-6319-4990-9437-be945d596b0d",
   "metadata": {},
   "source": [
    "### Empezamos creando un grafo vacio"
   ]
  },
  {
   "cell_type": "code",
   "execution_count": 2,
   "id": "0fba4343-89a4-46ea-a269-a3d00debc27a",
   "metadata": {},
   "outputs": [],
   "source": [
    "G = nx.Graph()"
   ]
  },
  {
   "cell_type": "markdown",
   "id": "dab611b1-2c88-45a3-ad64-6ea35ff935da",
   "metadata": {},
   "source": [
    "### Creamos los nodos"
   ]
  },
  {
   "cell_type": "code",
   "execution_count": 3,
   "id": "e6d0bb6d-a5ee-4497-8a62-db2638333db5",
   "metadata": {},
   "outputs": [],
   "source": [
    "G.add_nodes_from([\"Mar Adentro\",\"El Bar\",\"Mujeres al Borde de un Ataque de Nervios\",\"Isla Minima\"])"
   ]
  },
  {
   "cell_type": "markdown",
   "id": "e5b9bb88-ec55-447e-9527-e54a85ffc002",
   "metadata": {},
   "source": [
    "### Definimos las aristas\n",
    "En este caso, los actores que han participado en las películas"
   ]
  },
  {
   "cell_type": "code",
   "execution_count": 4,
   "id": "7137ae50-89df-4521-b6af-882e2aebeb5c",
   "metadata": {},
   "outputs": [],
   "source": [
    "G.add_edges_from([(\"Mar Adentro\", \"Javier Bardem\"), (\"Mar Adentro\", \"Carlos Bardem\")])\n",
    "G.add_edges_from([(\"El Bar\", \"Mario Casas\"),(\"El Bar\", \"Blanca Suarez\"), (\"El Bar\", \"Carmen Machi\"),(\"El Bar\", \"Jaime Ordonnez\")])\n",
    "G.add_edges_from([(\"Mujeres al Borde de un Ataque de Nervios\", \"Penelope Cruz\"), (\"Mujeres al Borde de un Ataque de Nervios\", \"Carmen Maura\"), (\"Mujeres al Borde de un Ataque de Nervios\", \"Rossy de Palma\"), (\"Mujeres al Borde de un Ataque de Nervios\", \"Antonio Banderas\")])\n",
    "G.add_edges_from([(\"Isla Minima\", \"Raul Arevalo\"), (\"Isla Minima\", \"Javier Gutierrez\")])"
   ]
  },
  {
   "cell_type": "markdown",
   "id": "e7763b9b-2cb2-47c9-8610-4c3df8d8d09e",
   "metadata": {},
   "source": [
    "### Asignamos los atributos a los nodos y las aristas\n",
    "Los directores"
   ]
  },
  {
   "cell_type": "code",
   "execution_count": 5,
   "id": "113bcded-a0f7-4e24-94e8-b1d4d8f0e182",
   "metadata": {},
   "outputs": [],
   "source": [
    "# Amenabar\n",
    "G.edges[\"Mar Adentro\", \"Javier Bardem\"][\"director\"]=\"Amenabar\"\n",
    "G.edges[\"Mar Adentro\", \"Carlos Bardem\"][\"director\"]=\"Amenabar\"\n",
    "\n",
    "# Alex de la Iglesia\n",
    "G.edges[\"El Bar\", \"Mario Casas\"][\"director\"]=\"Alex de la Iglesia\"\n",
    "G.edges[\"El Bar\", \"Blanca Suarez\"][\"director\"]=\"Alex de la Iglesia\"\n",
    "G.edges[\"El Bar\", \"Carmen Machi\"][\"director\"]=\"Alex de la Iglesia\"\n",
    "G.edges[\"El Bar\", \"Jaime Ordonnez\"][\"director\"]=\"Alex de la Iglesia\"\n",
    "\n",
    "# Pedro Almodovar\n",
    "G.edges[\"Mujeres al Borde de un Ataque de Nervios\",\"Penelope Cruz\"][\"director\"]=\"Pedro Almodovar\"\n",
    "G.edges[\"Mujeres al Borde de un Ataque de Nervios\", \"Carmen Maura\"][\"director\"]=\"Pedro Almodovar\"\n",
    "G.edges[\"Mujeres al Borde de un Ataque de Nervios\", \"Rossy de Palma\"][\"director\"]=\"Pedro Almodovar\"\n",
    "G.edges[\"Mujeres al Borde de un Ataque de Nervios\", \"Antonio Banderas\"][\"director\"]=\"Pedro Almodovar\"\n",
    "\n",
    "# Alberto Rodriguez\n",
    "G.edges[\"Isla Minima\", \"Raul Arevalo\"][\"director\"]=\"Alberto Rodriguez\"\n",
    "G.edges[\"Isla Minima\", \"Javier Gutierrez\"][\"director\"]=\"Alberto Rodriguez\""
   ]
  },
  {
   "cell_type": "markdown",
   "id": "6571cfc5-024a-4934-b409-8883dfd0fecb",
   "metadata": {},
   "source": [
    "### Etiquetamos"
   ]
  },
  {
   "cell_type": "code",
   "execution_count": 6,
   "id": "8d936df4-ceda-465b-976c-72b1303654c6",
   "metadata": {},
   "outputs": [],
   "source": [
    "etiquetas_nodos=G.add_nodes_from([\"Mar Adentro\",\"El Bar\",\"Mujeres al Borde de un Ataque de Nervios\",\"Isla Minima\"])"
   ]
  },
  {
   "cell_type": "markdown",
   "id": "bec8f107-d545-497d-b810-e8bd1cca9fd8",
   "metadata": {},
   "source": [
    "### Imprimos nuestras relaciones"
   ]
  },
  {
   "cell_type": "code",
   "execution_count": 7,
   "id": "a4d1c466-8492-4dbf-a744-113309dce1db",
   "metadata": {},
   "outputs": [
    {
     "name": "stdout",
     "output_type": "stream",
     "text": [
      "Nodos\n",
      "[('Mar Adentro', {}), ('El Bar', {}), ('Mujeres al Borde de un Ataque de Nervios', {}), ('Isla Minima', {}), ('Javier Bardem', {}), ('Carlos Bardem', {}), ('Mario Casas', {}), ('Blanca Suarez', {}), ('Carmen Machi', {}), ('Jaime Ordonnez', {}), ('Penelope Cruz', {}), ('Carmen Maura', {}), ('Rossy de Palma', {}), ('Antonio Banderas', {}), ('Raul Arevalo', {}), ('Javier Gutierrez', {})]\n",
      "Nodos y Aristas con las asignaciones de su atributo\n",
      "[('Mar Adentro', 'Javier Bardem', {'director': 'Amenabar'}), ('Mar Adentro', 'Carlos Bardem', {'director': 'Amenabar'}), ('El Bar', 'Mario Casas', {'director': 'Alex de la Iglesia'}), ('El Bar', 'Blanca Suarez', {'director': 'Alex de la Iglesia'}), ('El Bar', 'Carmen Machi', {'director': 'Alex de la Iglesia'}), ('El Bar', 'Jaime Ordonnez', {'director': 'Alex de la Iglesia'}), ('Mujeres al Borde de un Ataque de Nervios', 'Penelope Cruz', {'director': 'Pedro Almodovar'}), ('Mujeres al Borde de un Ataque de Nervios', 'Carmen Maura', {'director': 'Pedro Almodovar'}), ('Mujeres al Borde de un Ataque de Nervios', 'Rossy de Palma', {'director': 'Pedro Almodovar'}), ('Mujeres al Borde de un Ataque de Nervios', 'Antonio Banderas', {'director': 'Pedro Almodovar'}), ('Isla Minima', 'Raul Arevalo', {'director': 'Alberto Rodriguez'}), ('Isla Minima', 'Javier Gutierrez', {'director': 'Alberto Rodriguez'})]\n"
     ]
    }
   ],
   "source": [
    "print(\"Nodos\")\n",
    "print(G.nodes(data=True))\n",
    "print(\"Nodos y Aristas con las asignaciones de su atributo\")\n",
    "print(G.edges(data=True))"
   ]
  },
  {
   "cell_type": "markdown",
   "id": "fa93aeb8-a9db-402c-b067-7bb47b0d6d5c",
   "metadata": {},
   "source": [
    "### Graficamos"
   ]
  },
  {
   "cell_type": "code",
   "execution_count": 8,
   "id": "2ccf01a8-14ca-4007-828f-558833841139",
   "metadata": {},
   "outputs": [
    {
     "data": {
      "image/png": "[encoded data removed]",
      "text/plain": [
       "<Figure size 432x288 with 1 Axes>"
      ]
     },
     "metadata": {},
     "output_type": "display_data"
    }
   ],
   "source": [
    "pos=nx.spring_layout(G)\n",
    "nx.draw_networkx_nodes(G,pos,node_color='r',node_size=50)\n",
    "nx.draw_networkx_labels(G,pos,labels=etiquetas_nodos,font_size=8)\n",
    "nx.draw_networkx_edges(G,pos,nodelist=list(G.edges()),edge_color='g',width=4)\n",
    "plt.axis('off')\n",
    "plt.savefig(\"red_social2.png\")\n",
    "plt.show()\n"
   ]
  },
  {
   "cell_type": "code",
   "execution_count": null,
   "id": "09c2f45c-f7ff-4c70-b77f-0600e1ea3b9f",
   "metadata": {},
   "outputs": [],
   "source": []
  },
  {
   "cell_type": "code",
   "execution_count": null,
   "id": "f5534a75-b75c-4e49-adf5-1eb1c5045c3d",
   "metadata": {},
   "outputs": [],
   "source": []
  }
 ],
 "metadata": {
  "kernelspec": {
   "display_name": "Python 3 (ipykernel)",
   "language": "python",
   "name": "python3"
  },
  "language_info": {
   "codemirror_mode": {
    "name": "ipython",
    "version": 3
   },
   "file_extension": ".py",
   "mimetype": "text/x-python",
   "name": "python",
   "nbconvert_exporter": "python",
   "pygments_lexer": "ipython3",
   "version": "3.9.7"
  }
 },
 "nbformat": 4,
 "nbformat_minor": 5
}
