{
 "cells": [
  {
   "cell_type": "markdown",
   "id": "162e4f8e-df57-47bf-a47d-b0f6a7275f27",
   "metadata": {},
   "source": [
    "# Ejercicio 01: Crear una red compleja"
   ]
  },
  {
   "cell_type": "markdown",
   "id": "e432dcf3-33be-47e0-86f6-ba7442f90e56",
   "metadata": {},
   "source": [
    "Crear un grafo que una directores con actores unidos por sus películas, la clave debe ser la pelicula"
   ]
  },
  {
   "cell_type": "markdown",
   "id": "f83740c8-c192-432b-921d-68c51f0441cb",
   "metadata": {},
   "source": [
    "### Importamos los paquetes"
   ]
  },
  {
   "cell_type": "code",
   "execution_count": 1,
   "id": "208020ad-ea22-4365-8593-523cac925dba",
   "metadata": {},
   "outputs": [],
   "source": [
    "import graphviz\n",
    "import networkx as nx\n",
    "import matplotlib.pyplot as plt"
   ]
  },
  {
   "cell_type": "markdown",
   "id": "e3a331fe-fb52-4530-be24-39085ec801af",
   "metadata": {},
   "source": [
    "### Empezamos creando un grafo vacio"
   ]
  },
  {
   "cell_type": "code",
   "execution_count": 2,
   "id": "95dec380-3761-4e53-b5ff-1316915225f6",
   "metadata": {},
   "outputs": [],
   "source": [
    "G = nx.Graph()"
   ]
  },
  {
   "cell_type": "markdown",
   "id": "2d5ea162-9b1c-44ab-880f-018b1bb64e7b",
   "metadata": {},
   "source": [
    "### Creamos los nodos\n",
    "En nuestro caso, los directores"
   ]
  },
  {
   "cell_type": "code",
   "execution_count": 3,
   "id": "84e3fc1f-535a-4778-90f9-c7d720ae3956",
   "metadata": {},
   "outputs": [],
   "source": [
    "G.add_nodes_from([\"Amenabar\",\"Alex de la Iglesia\",\"Pedro Almodovar\",\"Alberto Rodriguez\"])"
   ]
  },
  {
   "cell_type": "markdown",
   "id": "74ee6cd1-e1db-41e8-b23b-6a53d3946350",
   "metadata": {},
   "source": [
    "### Definimos las aristas\n",
    "En este caso, los actores que han participado con los directores"
   ]
  },
  {
   "cell_type": "code",
   "execution_count": 4,
   "id": "8d875039-83cc-40b9-a08c-777661397c79",
   "metadata": {},
   "outputs": [],
   "source": [
    "G.add_edges_from([(\"Amenabar\", \"Javier Bardem\"), (\"Amenabar\", \"Carlos Bardem\")])\n",
    "G.add_edges_from([(\"Alex de la Iglesia\", \"Mario Casas\"),(\"Alex de la Iglesia\", \"Blanca Suarez\"),(\"Alex de la Iglesia\",\"Carmen Machi\"),(\"Alex de la Iglesia\",\"Jaime Ordoñez\")])\n",
    "G.add_edges_from([(\"Pedro Almodovar\", \"Penelope Cruz\"),(\"Pedro Almodovar\", \"Carmen Maura\"),(\"Pedro Almodovar\",\"Rossy de Palma\"),(\"Pedro Almodovar\",\"Antonio Banderas\")])\n",
    "G.add_edges_from([(\"Alberto Rodriguez\", \"Javier Gutierrez\"), (\"Alberto Rodriguez\", \"Raul Arevalo\")])"
   ]
  },
  {
   "cell_type": "markdown",
   "id": "0b7bad00-cff7-4e65-9ff6-9c442cfa69a6",
   "metadata": {},
   "source": [
    "### Asignamos los atributos a los nodos y las aristas\n",
    "Las películas"
   ]
  },
  {
   "cell_type": "code",
   "execution_count": 5,
   "id": "44d6a248-cfce-48ba-9c5c-12e42dbebd17",
   "metadata": {},
   "outputs": [],
   "source": [
    "# Empezamos por Mar Adentro\n",
    "G.edges[\"Amenabar\", \"Javier Bardem\"][\"pelicula\"] = \"Mar Adentro\"\n",
    "G.edges[\"Amenabar\", \"Carlos Bardem\"][\"pelicula\"] = \"Mar Adentro\"\n",
    "\n",
    "# El Bar\n",
    "G.edges[\"Alex de la Iglesia\",\"Mario Casas\"][\"pelicula\"]=\"El Bar\"\n",
    "G.edges[\"Alex de la Iglesia\",\"Blanca Suarez\"][\"pelicula\"]=\"El Bar\"\n",
    "G.edges[\"Alex de la Iglesia\",\"Carmen Machi\"][\"pelicula\"]=\"El Bar\"\n",
    "G.edges[\"Alex de la Iglesia\",\"Jaime Ordoñez\"][\"pelicula\"]=\"El Bar\"\n",
    "\n",
    "# Mujeres al borde de un ataque de nervios\n",
    "G.edges[\"Pedro Almodovar\",\"Penelope Cruz\"][\"pelicula\"]=\"Mujeres al Borde de un Ataque de Nervios\"\n",
    "G.edges[\"Pedro Almodovar\",\"Carmen Maura\"][\"pelicula\"]=\"Mujeres al Borde de un Ataque de Nervios\"\n",
    "G.edges[\"Pedro Almodovar\",\"Rossy de Palma\"][\"pelicula\"]=\"Mujeres al Borde de un Ataque de Nervios\"\n",
    "G.edges[\"Pedro Almodovar\",\"Antonio Banderas\"][\"pelicula\"]=\"Mujeres al Borde de un Ataque de Nervios\"\n",
    "\n",
    "# Isla Mínima\n",
    "G.edges[\"Alberto Rodriguez\", \"Javier Gutierrez\"][\"pelicula\"] = \"Isla Minima\"\n",
    "G.edges[\"Alberto Rodriguez\", \"Raul Arevalo\"][\"pelicula\"] = \"Isla Minima\""
   ]
  },
  {
   "cell_type": "markdown",
   "id": "613e4afc-d8c0-48be-b24d-e6cf84761a08",
   "metadata": {},
   "source": [
    "### Etiquetamos"
   ]
  },
  {
   "cell_type": "code",
   "execution_count": 6,
   "id": "b2f78c6b-6813-4885-867a-f1815d4c5ad9",
   "metadata": {},
   "outputs": [],
   "source": [
    "etiquetas_nodos=G.add_nodes_from([\"Amenabar\",\"Alex de la Iglesia\",\"Pedro Almodovar\",\"Alberto Rodriguez\"])"
   ]
  },
  {
   "cell_type": "markdown",
   "id": "e03dbef9-2528-446c-90b6-a78c0bd8231f",
   "metadata": {},
   "source": [
    "### Comprobamos lo que tenemos"
   ]
  },
  {
   "cell_type": "code",
   "execution_count": 7,
   "id": "7f6ce68f-3d4b-4935-b195-9e178a981615",
   "metadata": {},
   "outputs": [
    {
     "name": "stdout",
     "output_type": "stream",
     "text": [
      "Nodos\n",
      "[('Amenabar', {}), ('Alex de la Iglesia', {}), ('Pedro Almodovar', {}), ('Alberto Rodriguez', {}), ('Javier Bardem', {}), ('Carlos Bardem', {}), ('Mario Casas', {}), ('Blanca Suarez', {}), ('Carmen Machi', {}), ('Jaime Ordoñez', {}), ('Penelope Cruz', {}), ('Carmen Maura', {}), ('Rossy de Palma', {}), ('Antonio Banderas', {}), ('Javier Gutierrez', {}), ('Raul Arevalo', {})]\n"
     ]
    }
   ],
   "source": [
    "print(\"Nodos\")\n",
    "print(G.nodes(data=True))"
   ]
  },
  {
   "cell_type": "code",
   "execution_count": 8,
   "id": "4ee69b5e-dfea-43c7-a622-5d7af39c646d",
   "metadata": {},
   "outputs": [
    {
     "name": "stdout",
     "output_type": "stream",
     "text": [
      "Nodos y Aristas con sus Asignaciones\n",
      "[('Amenabar', 'Javier Bardem', {'pelicula': 'Mar Adentro'}), ('Amenabar', 'Carlos Bardem', {'pelicula': 'Mar Adentro'}), ('Alex de la Iglesia', 'Mario Casas', {'pelicula': 'El Bar'}), ('Alex de la Iglesia', 'Blanca Suarez', {'pelicula': 'El Bar'}), ('Alex de la Iglesia', 'Carmen Machi', {'pelicula': 'El Bar'}), ('Alex de la Iglesia', 'Jaime Ordoñez', {'pelicula': 'El Bar'}), ('Pedro Almodovar', 'Penelope Cruz', {'pelicula': 'Mujeres al Borde de un Ataque de Nervios'}), ('Pedro Almodovar', 'Carmen Maura', {'pelicula': 'Mujeres al Borde de un Ataque de Nervios'}), ('Pedro Almodovar', 'Rossy de Palma', {'pelicula': 'Mujeres al Borde de un Ataque de Nervios'}), ('Pedro Almodovar', 'Antonio Banderas', {'pelicula': 'Mujeres al Borde de un Ataque de Nervios'}), ('Alberto Rodriguez', 'Javier Gutierrez', {'pelicula': 'Isla Minima'}), ('Alberto Rodriguez', 'Raul Arevalo', {'pelicula': 'Isla Minima'})]\n"
     ]
    }
   ],
   "source": [
    "print(\"Nodos y Aristas con sus Asignaciones\")\n",
    "print(G.edges(data=True))"
   ]
  },
  {
   "cell_type": "markdown",
   "id": "984e04c1-79be-4df8-b0f8-ba7c494ffe7e",
   "metadata": {},
   "source": [
    "### Graficamos los grafos"
   ]
  },
  {
   "cell_type": "code",
   "execution_count": 9,
   "id": "1641d1a7-d31a-4f08-ab70-01daa7c708b6",
   "metadata": {},
   "outputs": [
    {
     "data": {
      "image/png": "[encoded data removed]",
      "text/plain": [
       "<Figure size 432x288 with 1 Axes>"
      ]
     },
     "metadata": {},
     "output_type": "display_data"
    }
   ],
   "source": [
    "pos=nx.spring_layout(G)\n",
    "nx.draw_networkx_nodes(G,pos,node_color='r',node_size=50)\n",
    "nx.draw_networkx_labels(G,pos,labels=etiquetas_nodos,font_size=8)\n",
    "nx.draw_networkx_edges(G,pos,nodelist=list(G.edges()),edge_color='g',width=4)\n",
    "plt.axis('off')\n",
    "plt.savefig(\"red_social_1.png\")\n",
    "plt.show()\n"
   ]
  },
  {
   "cell_type": "code",
   "execution_count": null,
   "id": "798469ae-3dd1-4909-8ea8-a1dee3e1db09",
   "metadata": {},
   "outputs": [],
   "source": []
  }
 ],
 "metadata": {
  "kernelspec": {
   "display_name": "Python 3 (ipykernel)",
   "language": "python",
   "name": "python3"
  },
  "language_info": {
   "codemirror_mode": {
    "name": "ipython",
    "version": 3
   },
   "file_extension": ".py",
   "mimetype": "text/x-python",
   "name": "python",
   "nbconvert_exporter": "python",
   "pygments_lexer": "ipython3",
   "version": "3.9.7"
  }
 },
 "nbformat": 4,
 "nbformat_minor": 5
}
